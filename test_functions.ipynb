{
 "cells": [
  {
   "cell_type": "code",
   "execution_count": 1,
   "id": "e9a6c96a",
   "metadata": {
    "hide_input": false
   },
   "outputs": [],
   "source": [
    "import pytest"
   ]
  },
  {
   "cell_type": "code",
   "execution_count": null,
   "id": "218f5adf",
   "metadata": {},
   "outputs": [],
   "source": [
    "import get_day_info"
   ]
  },
  {
   "cell_type": "code",
   "execution_count": null,
   "id": "2602ff39",
   "metadata": {},
   "outputs": [],
   "source": [
    "def test_correct_date_format():\n",
    "    assert get_day_info(\"14/04/2023\") == 'Friday'\n",
    "    \n",
    "def test_wrong_number_of_digits():\n",
    "    actual = get_day_info(\"14/04/202\")\n",
    "    expected = None\n",
    "    message = (\"get_day_info('14/04/202') returned {0} instead of {1}\".format(actual,expected))\n",
    "    assert actual is expected, message"
   ]
  }
 ],
 "metadata": {
  "kernelspec": {
   "display_name": "Python 3",
   "language": "python",
   "name": "python3"
  },
  "language_info": {
   "codemirror_mode": {
    "name": "ipython",
    "version": 3
   },
   "file_extension": ".py",
   "mimetype": "text/x-python",
   "name": "python",
   "nbconvert_exporter": "python",
   "pygments_lexer": "ipython3",
   "version": "3.8.2"
  }
 },
 "nbformat": 4,
 "nbformat_minor": 5
}
