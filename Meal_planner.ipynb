{
 "cells": [
  {
   "cell_type": "code",
   "execution_count": 1,
   "id": "16f6c476",
   "metadata": {},
   "outputs": [],
   "source": [
    "# Library import\n",
    "import os\n",
    "import pandas as pd\n",
    "\n",
    "# generate random integer values\n",
    "from random import seed, randint, choice"
   ]
  },
  {
   "cell_type": "code",
   "execution_count": 20,
   "id": "fa38a593",
   "metadata": {},
   "outputs": [],
   "source": [
    "# ---------- CHANGES: Indexes can't be chose more than once to avoid eating the same thing twice during the week\n",
    "# ---------- CHANGES: Add attribute to make menu more equilibrated \n",
    "\n",
    "def chooseDish(df,str,list):\n",
    "    #subset_df = xl_file[(xl_file['Day'] == 'string') | (xl_file['Day']=='Any') & (xl_file['TimesPerWeek'] > 0)].reset_index()\n",
    "    #xl_file.drop(used_index, inplace = True)\n",
    "    print(df.shape)\n",
    "    for ind in list:\n",
    "        if ind in df.index.values.tolist():\n",
    "            df = df.drop(used_indexes, inplace = True)\n",
    "    \n",
    "    print(df.shape)\n",
    "\n",
    "    subset_df = df[(df['Day'] == str) | \n",
    "                        (df['Day'] == 'Any') & \n",
    "                        (df['TimesPerWeek'] > 0)]\n",
    "    \n",
    "    index = randint(0, len(subset_df)-1)\n",
    "    \n",
    "    dish1 = subset_df['Dish'][index]\n",
    "    if subset_df['Type'][index] == 'Primo':\n",
    "        side_dish = subset_df[subset_df['Type']=='Contorno']\n",
    "        dish2 = choice(side_dish.Dish.to_list())\n",
    "        final_dish = dish1+' & '+dish2\n",
    "    elif subset_df['Type'][index] == 'Secondo':\n",
    "        side_dish = subset_df[subset_df['Type']=='Contorno']\n",
    "        dish2 = choice(side_dish.Dish.to_list())\n",
    "        final_dish = dish1+' & '+dish2\n",
    "    elif subset_df['Type'][index] == 'Contorno':\n",
    "        side_dish = subset_df[subset_df['Type']=='Secondo']\n",
    "        dish2 = choice(side_dish.Dish.to_list())\n",
    "        final_dish = dish2+' & '+dish1\n",
    "    else:\n",
    "        final_dish = dish1\n",
    "\n",
    "    return final_dish, index"
   ]
  },
  {
   "cell_type": "code",
   "execution_count": 21,
   "id": "3c9aeddf",
   "metadata": {},
   "outputs": [
    {
     "data": {
      "text/plain": [
       "\"#\\xa0Function to remove entry if it should only be eaten once a week\\ndef used_rec(str):\\n    a, *b = str.split(' & ')\\n    if b:\\n        dish1 = a\\n        dish2 = b[0]\\n        xl_file.loc[xl_file.Dish == dish1, ['TimesPerWeek']] = xl_file.loc[xl_file.Dish == dish1, ['TimesPerWeek']] - 1\\n        xl_file.loc[xl_file.Dish == dish2, ['TimesPerWeek']] = xl_file.loc[xl_file.Dish == dish2, ['TimesPerWeek']] - 1\\n    else:\\n        dish1 = a\\n        xl_file.loc[xl_file.Dish == dish1, ['TimesPerWeek']] = xl_file.loc[xl_file.Dish == dish1, ['TimesPerWeek']] - 1\\n    \\n    return xl_file\\n\""
      ]
     },
     "execution_count": 21,
     "metadata": {},
     "output_type": "execute_result"
    }
   ],
   "source": [
    "'''# Function to remove entry if it should only be eaten once a week\n",
    "def used_rec(str):\n",
    "    a, *b = str.split(' & ')\n",
    "    if b:\n",
    "        dish1 = a\n",
    "        dish2 = b[0]\n",
    "        xl_file.loc[xl_file.Dish == dish1, ['TimesPerWeek']] = xl_file.loc[xl_file.Dish == dish1, ['TimesPerWeek']] - 1\n",
    "        xl_file.loc[xl_file.Dish == dish2, ['TimesPerWeek']] = xl_file.loc[xl_file.Dish == dish2, ['TimesPerWeek']] - 1\n",
    "    else:\n",
    "        dish1 = a\n",
    "        xl_file.loc[xl_file.Dish == dish1, ['TimesPerWeek']] = xl_file.loc[xl_file.Dish == dish1, ['TimesPerWeek']] - 1\n",
    "    \n",
    "    return xl_file\n",
    "'''"
   ]
  },
  {
   "cell_type": "code",
   "execution_count": 24,
   "id": "d39f09a7",
   "metadata": {},
   "outputs": [
    {
     "name": "stdout",
     "output_type": "stream",
     "text": [
      "(71, 5)\n",
      "(71, 5)\n",
      "Lunedi\n",
      "Cena: Pasta alla Carbonara & Verdure alla griglia\n",
      "(71, 5)\n",
      "(71, 5)\n",
      "Martedi\n",
      "Cena: Fish cake & Zucca al forno\n",
      "(71, 5)\n",
      "(71, 5)\n",
      "Mercoledi\n",
      "Cena: Filetti di pesce con crema al limone & Peperoni alla griglia\n",
      "(71, 5)\n",
      "(71, 5)\n",
      "Giovedi\n",
      "Cena: Tortillas py & Verdure alla griglia\n",
      "(71, 5)\n",
      "(71, 5)\n",
      "Venerdi\n",
      "Cena: Involtini di carne, senape e sottilette & Broccoli al vapore\n",
      "(71, 5)\n",
      "(71, 5)\n",
      "(71, 5)\n",
      "(71, 5)\n",
      "Sabato\n",
      "Pranzo: Fish cake & Spinaci in padella\n",
      "Cena: Hamburger e patatine\n",
      "(71, 5)\n"
     ]
    },
    {
     "ename": "KeyError",
     "evalue": "\"['19' '2' '57' '58' '41'] not found in axis\"",
     "output_type": "error",
     "traceback": [
      "\u001b[0;31m---------------------------------------------------------------------------\u001b[0m",
      "\u001b[0;31mKeyError\u001b[0m                                  Traceback (most recent call last)",
      "\u001b[0;32m<ipython-input-24-0dde7876a39a>\u001b[0m in \u001b[0;36m<module>\u001b[0;34m\u001b[0m\n\u001b[1;32m     15\u001b[0m         \u001b[0mused_indexes\u001b[0m\u001b[0;34m.\u001b[0m\u001b[0mappend\u001b[0m\u001b[0;34m(\u001b[0m\u001b[0mstr\u001b[0m\u001b[0;34m(\u001b[0m\u001b[0mmeal_index\u001b[0m\u001b[0;34m)\u001b[0m\u001b[0;34m)\u001b[0m\u001b[0;34m\u001b[0m\u001b[0;34m\u001b[0m\u001b[0m\n\u001b[1;32m     16\u001b[0m     \u001b[0;32melif\u001b[0m \u001b[0mday\u001b[0m \u001b[0;32min\u001b[0m \u001b[0mweek\u001b[0m\u001b[0;34m[\u001b[0m\u001b[0;34m-\u001b[0m\u001b[0;36m2\u001b[0m\u001b[0;34m:\u001b[0m\u001b[0;34m]\u001b[0m\u001b[0;34m:\u001b[0m\u001b[0;34m\u001b[0m\u001b[0;34m\u001b[0m\u001b[0m\n\u001b[0;32m---> 17\u001b[0;31m         \u001b[0mlunch\u001b[0m\u001b[0;34m,\u001b[0m \u001b[0mlunch_index\u001b[0m \u001b[0;34m=\u001b[0m \u001b[0mchooseDish\u001b[0m\u001b[0;34m(\u001b[0m\u001b[0mxl_file\u001b[0m\u001b[0;34m,\u001b[0m\u001b[0mday\u001b[0m\u001b[0;34m,\u001b[0m\u001b[0mused_indexes\u001b[0m\u001b[0;34m)\u001b[0m\u001b[0;34m\u001b[0m\u001b[0;34m\u001b[0m\u001b[0m\n\u001b[0m\u001b[1;32m     18\u001b[0m         \u001b[0mdinner\u001b[0m\u001b[0;34m,\u001b[0m \u001b[0mdinner_index\u001b[0m \u001b[0;34m=\u001b[0m \u001b[0mchooseDish\u001b[0m\u001b[0;34m(\u001b[0m\u001b[0mxl_file\u001b[0m\u001b[0;34m,\u001b[0m\u001b[0mday\u001b[0m\u001b[0;34m,\u001b[0m\u001b[0mused_indexes\u001b[0m\u001b[0;34m)\u001b[0m\u001b[0;34m\u001b[0m\u001b[0;34m\u001b[0m\u001b[0m\n\u001b[1;32m     19\u001b[0m         \u001b[0mweekly_meals_dic\u001b[0m\u001b[0;34m[\u001b[0m\u001b[0mday\u001b[0m\u001b[0;34m+\u001b[0m\u001b[0;34m' Pranzo'\u001b[0m\u001b[0;34m]\u001b[0m \u001b[0;34m=\u001b[0m \u001b[0mdinner\u001b[0m\u001b[0;34m\u001b[0m\u001b[0;34m\u001b[0m\u001b[0m\n",
      "\u001b[0;32m<ipython-input-20-56d37239bf69>\u001b[0m in \u001b[0;36mchooseDish\u001b[0;34m(df, str, list)\u001b[0m\n\u001b[1;32m      8\u001b[0m     \u001b[0;32mfor\u001b[0m \u001b[0mind\u001b[0m \u001b[0;32min\u001b[0m \u001b[0mlist\u001b[0m\u001b[0;34m:\u001b[0m\u001b[0;34m\u001b[0m\u001b[0;34m\u001b[0m\u001b[0m\n\u001b[1;32m      9\u001b[0m         \u001b[0;32mif\u001b[0m \u001b[0mind\u001b[0m \u001b[0;32min\u001b[0m \u001b[0mdf\u001b[0m\u001b[0;34m.\u001b[0m\u001b[0mindex\u001b[0m\u001b[0;34m.\u001b[0m\u001b[0mvalues\u001b[0m\u001b[0;34m.\u001b[0m\u001b[0mtolist\u001b[0m\u001b[0;34m(\u001b[0m\u001b[0;34m)\u001b[0m\u001b[0;34m:\u001b[0m\u001b[0;34m\u001b[0m\u001b[0;34m\u001b[0m\u001b[0m\n\u001b[0;32m---> 10\u001b[0;31m             \u001b[0mdf\u001b[0m \u001b[0;34m=\u001b[0m \u001b[0mdf\u001b[0m\u001b[0;34m.\u001b[0m\u001b[0mdrop\u001b[0m\u001b[0;34m(\u001b[0m\u001b[0mused_indexes\u001b[0m\u001b[0;34m,\u001b[0m \u001b[0minplace\u001b[0m \u001b[0;34m=\u001b[0m \u001b[0;32mTrue\u001b[0m\u001b[0;34m)\u001b[0m\u001b[0;34m\u001b[0m\u001b[0;34m\u001b[0m\u001b[0m\n\u001b[0m\u001b[1;32m     11\u001b[0m \u001b[0;34m\u001b[0m\u001b[0m\n\u001b[1;32m     12\u001b[0m     \u001b[0mprint\u001b[0m\u001b[0;34m(\u001b[0m\u001b[0mdf\u001b[0m\u001b[0;34m.\u001b[0m\u001b[0mshape\u001b[0m\u001b[0;34m)\u001b[0m\u001b[0;34m\u001b[0m\u001b[0;34m\u001b[0m\u001b[0m\n",
      "\u001b[0;32m/opt/anaconda3/lib/python3.8/site-packages/pandas/core/frame.py\u001b[0m in \u001b[0;36mdrop\u001b[0;34m(self, labels, axis, index, columns, level, inplace, errors)\u001b[0m\n\u001b[1;32m   4306\u001b[0m                 \u001b[0mweight\u001b[0m  \u001b[0;36m1.0\u001b[0m     \u001b[0;36m0.8\u001b[0m\u001b[0;34m\u001b[0m\u001b[0;34m\u001b[0m\u001b[0m\n\u001b[1;32m   4307\u001b[0m         \"\"\"\n\u001b[0;32m-> 4308\u001b[0;31m         return super().drop(\n\u001b[0m\u001b[1;32m   4309\u001b[0m             \u001b[0mlabels\u001b[0m\u001b[0;34m=\u001b[0m\u001b[0mlabels\u001b[0m\u001b[0;34m,\u001b[0m\u001b[0;34m\u001b[0m\u001b[0;34m\u001b[0m\u001b[0m\n\u001b[1;32m   4310\u001b[0m             \u001b[0maxis\u001b[0m\u001b[0;34m=\u001b[0m\u001b[0maxis\u001b[0m\u001b[0;34m,\u001b[0m\u001b[0;34m\u001b[0m\u001b[0;34m\u001b[0m\u001b[0m\n",
      "\u001b[0;32m/opt/anaconda3/lib/python3.8/site-packages/pandas/core/generic.py\u001b[0m in \u001b[0;36mdrop\u001b[0;34m(self, labels, axis, index, columns, level, inplace, errors)\u001b[0m\n\u001b[1;32m   4151\u001b[0m         \u001b[0;32mfor\u001b[0m \u001b[0maxis\u001b[0m\u001b[0;34m,\u001b[0m \u001b[0mlabels\u001b[0m \u001b[0;32min\u001b[0m \u001b[0maxes\u001b[0m\u001b[0;34m.\u001b[0m\u001b[0mitems\u001b[0m\u001b[0;34m(\u001b[0m\u001b[0;34m)\u001b[0m\u001b[0;34m:\u001b[0m\u001b[0;34m\u001b[0m\u001b[0;34m\u001b[0m\u001b[0m\n\u001b[1;32m   4152\u001b[0m             \u001b[0;32mif\u001b[0m \u001b[0mlabels\u001b[0m \u001b[0;32mis\u001b[0m \u001b[0;32mnot\u001b[0m \u001b[0;32mNone\u001b[0m\u001b[0;34m:\u001b[0m\u001b[0;34m\u001b[0m\u001b[0;34m\u001b[0m\u001b[0m\n\u001b[0;32m-> 4153\u001b[0;31m                 \u001b[0mobj\u001b[0m \u001b[0;34m=\u001b[0m \u001b[0mobj\u001b[0m\u001b[0;34m.\u001b[0m\u001b[0m_drop_axis\u001b[0m\u001b[0;34m(\u001b[0m\u001b[0mlabels\u001b[0m\u001b[0;34m,\u001b[0m \u001b[0maxis\u001b[0m\u001b[0;34m,\u001b[0m \u001b[0mlevel\u001b[0m\u001b[0;34m=\u001b[0m\u001b[0mlevel\u001b[0m\u001b[0;34m,\u001b[0m \u001b[0merrors\u001b[0m\u001b[0;34m=\u001b[0m\u001b[0merrors\u001b[0m\u001b[0;34m)\u001b[0m\u001b[0;34m\u001b[0m\u001b[0;34m\u001b[0m\u001b[0m\n\u001b[0m\u001b[1;32m   4154\u001b[0m \u001b[0;34m\u001b[0m\u001b[0m\n\u001b[1;32m   4155\u001b[0m         \u001b[0;32mif\u001b[0m \u001b[0minplace\u001b[0m\u001b[0;34m:\u001b[0m\u001b[0;34m\u001b[0m\u001b[0;34m\u001b[0m\u001b[0m\n",
      "\u001b[0;32m/opt/anaconda3/lib/python3.8/site-packages/pandas/core/generic.py\u001b[0m in \u001b[0;36m_drop_axis\u001b[0;34m(self, labels, axis, level, errors)\u001b[0m\n\u001b[1;32m   4186\u001b[0m                 \u001b[0mnew_axis\u001b[0m \u001b[0;34m=\u001b[0m \u001b[0maxis\u001b[0m\u001b[0;34m.\u001b[0m\u001b[0mdrop\u001b[0m\u001b[0;34m(\u001b[0m\u001b[0mlabels\u001b[0m\u001b[0;34m,\u001b[0m \u001b[0mlevel\u001b[0m\u001b[0;34m=\u001b[0m\u001b[0mlevel\u001b[0m\u001b[0;34m,\u001b[0m \u001b[0merrors\u001b[0m\u001b[0;34m=\u001b[0m\u001b[0merrors\u001b[0m\u001b[0;34m)\u001b[0m\u001b[0;34m\u001b[0m\u001b[0;34m\u001b[0m\u001b[0m\n\u001b[1;32m   4187\u001b[0m             \u001b[0;32melse\u001b[0m\u001b[0;34m:\u001b[0m\u001b[0;34m\u001b[0m\u001b[0;34m\u001b[0m\u001b[0m\n\u001b[0;32m-> 4188\u001b[0;31m                 \u001b[0mnew_axis\u001b[0m \u001b[0;34m=\u001b[0m \u001b[0maxis\u001b[0m\u001b[0;34m.\u001b[0m\u001b[0mdrop\u001b[0m\u001b[0;34m(\u001b[0m\u001b[0mlabels\u001b[0m\u001b[0;34m,\u001b[0m \u001b[0merrors\u001b[0m\u001b[0;34m=\u001b[0m\u001b[0merrors\u001b[0m\u001b[0;34m)\u001b[0m\u001b[0;34m\u001b[0m\u001b[0;34m\u001b[0m\u001b[0m\n\u001b[0m\u001b[1;32m   4189\u001b[0m             \u001b[0mresult\u001b[0m \u001b[0;34m=\u001b[0m \u001b[0mself\u001b[0m\u001b[0;34m.\u001b[0m\u001b[0mreindex\u001b[0m\u001b[0;34m(\u001b[0m\u001b[0;34m**\u001b[0m\u001b[0;34m{\u001b[0m\u001b[0maxis_name\u001b[0m\u001b[0;34m:\u001b[0m \u001b[0mnew_axis\u001b[0m\u001b[0;34m}\u001b[0m\u001b[0;34m)\u001b[0m\u001b[0;34m\u001b[0m\u001b[0;34m\u001b[0m\u001b[0m\n\u001b[1;32m   4190\u001b[0m \u001b[0;34m\u001b[0m\u001b[0m\n",
      "\u001b[0;32m/opt/anaconda3/lib/python3.8/site-packages/pandas/core/indexes/base.py\u001b[0m in \u001b[0;36mdrop\u001b[0;34m(self, labels, errors)\u001b[0m\n\u001b[1;32m   5589\u001b[0m         \u001b[0;32mif\u001b[0m \u001b[0mmask\u001b[0m\u001b[0;34m.\u001b[0m\u001b[0many\u001b[0m\u001b[0;34m(\u001b[0m\u001b[0;34m)\u001b[0m\u001b[0;34m:\u001b[0m\u001b[0;34m\u001b[0m\u001b[0;34m\u001b[0m\u001b[0m\n\u001b[1;32m   5590\u001b[0m             \u001b[0;32mif\u001b[0m \u001b[0merrors\u001b[0m \u001b[0;34m!=\u001b[0m \u001b[0;34m\"ignore\"\u001b[0m\u001b[0;34m:\u001b[0m\u001b[0;34m\u001b[0m\u001b[0;34m\u001b[0m\u001b[0m\n\u001b[0;32m-> 5591\u001b[0;31m                 \u001b[0;32mraise\u001b[0m \u001b[0mKeyError\u001b[0m\u001b[0;34m(\u001b[0m\u001b[0;34mf\"{labels[mask]} not found in axis\"\u001b[0m\u001b[0;34m)\u001b[0m\u001b[0;34m\u001b[0m\u001b[0;34m\u001b[0m\u001b[0m\n\u001b[0m\u001b[1;32m   5592\u001b[0m             \u001b[0mindexer\u001b[0m \u001b[0;34m=\u001b[0m \u001b[0mindexer\u001b[0m\u001b[0;34m[\u001b[0m\u001b[0;34m~\u001b[0m\u001b[0mmask\u001b[0m\u001b[0;34m]\u001b[0m\u001b[0;34m\u001b[0m\u001b[0;34m\u001b[0m\u001b[0m\n\u001b[1;32m   5593\u001b[0m         \u001b[0;32mreturn\u001b[0m \u001b[0mself\u001b[0m\u001b[0;34m.\u001b[0m\u001b[0mdelete\u001b[0m\u001b[0;34m(\u001b[0m\u001b[0mindexer\u001b[0m\u001b[0;34m)\u001b[0m\u001b[0;34m\u001b[0m\u001b[0;34m\u001b[0m\u001b[0m\n",
      "\u001b[0;31mKeyError\u001b[0m: \"['19' '2' '57' '58' '41'] not found in axis\""
     ]
    }
   ],
   "source": [
    "xl_file = pd.read_excel('/Users/mariarojec/Desktop/Meal_planner/menu_settimanale_test.xlsx')\n",
    "\n",
    "week = ['Lunedi','Martedi','Mercoledi','Giovedi','Venerdi','Sabato','Domenica']\n",
    "\n",
    "# generate some integers\n",
    "\n",
    "weekly_meals_dic = {}\n",
    "used_indexes = []\n",
    "\n",
    "for day in week:\n",
    "    if day in week[:-2]:\n",
    "        dinner,meal_index = chooseDish(xl_file,day,used_indexes)\n",
    "        weekly_meals_dic[day+' Cena'] = dinner\n",
    "        print(day+'\\nCena: '+dinner)\n",
    "        used_indexes.append(str(meal_index))\n",
    "    elif day in week[-2:]:\n",
    "        lunch, lunch_index = chooseDish(xl_file,day,used_indexes)\n",
    "        dinner, dinner_index = chooseDish(xl_file,day,used_indexes)\n",
    "        weekly_meals_dic[day+' Pranzo'] = dinner\n",
    "        weekly_meals_dic[day+' Cena'] = dinner\n",
    "        used_indexes.extend([lunch_index, dinner_index])\n",
    "        print(day+'\\nPranzo: '+lunch+'\\nCena: '+dinner)\n",
    "    else:\n",
    "        print('some error')"
   ]
  },
  {
   "cell_type": "code",
   "execution_count": 23,
   "id": "da774d81",
   "metadata": {},
   "outputs": [
    {
     "name": "stdout",
     "output_type": "stream",
     "text": [
      "[]\n",
      "(71, 5)\n",
      "(71, 5)\n"
     ]
    },
    {
     "data": {
      "text/plain": [
       "('Pasta al ragu & Melanzane al funghetto', 17)"
      ]
     },
     "execution_count": 23,
     "metadata": {},
     "output_type": "execute_result"
    }
   ],
   "source": [
    "print(used_indexes)\n",
    "chooseDish(xl_file, 'Friday', used_indexes)"
   ]
  },
  {
   "cell_type": "code",
   "execution_count": 41,
   "id": "afa0decf",
   "metadata": {},
   "outputs": [
    {
     "data": {
      "text/plain": [
       "{'Cavoletti di Bruxelles', 'Lasagna classica'}"
      ]
     },
     "execution_count": 41,
     "metadata": {},
     "output_type": "execute_result"
    }
   ],
   "source": [
    "import itertools\n",
    "\n",
    "set(list(itertools.chain(*[m.split(' & ') for m in weekly_meals_dic.values()])))"
   ]
  },
  {
   "cell_type": "code",
   "execution_count": null,
   "id": "fe7fbd2c",
   "metadata": {},
   "outputs": [],
   "source": []
  }
 ],
 "metadata": {
  "kernelspec": {
   "display_name": "Python 3",
   "language": "python",
   "name": "python3"
  },
  "language_info": {
   "codemirror_mode": {
    "name": "ipython",
    "version": 3
   },
   "file_extension": ".py",
   "mimetype": "text/x-python",
   "name": "python",
   "nbconvert_exporter": "python",
   "pygments_lexer": "ipython3",
   "version": "3.8.2"
  }
 },
 "nbformat": 4,
 "nbformat_minor": 5
}
