{
 "cells": [
  {
   "cell_type": "code",
   "execution_count": 15,
   "id": "16f6c476",
   "metadata": {},
   "outputs": [],
   "source": [
    "# Library import\n",
    "import os\n",
    "import pandas as pd\n",
    "\n",
    "# generate random integer values\n",
    "from random import seed, randint, choice"
   ]
  },
  {
   "cell_type": "code",
   "execution_count": 16,
   "id": "fa38a593",
   "metadata": {},
   "outputs": [],
   "source": [
    "# ---------- CHANGES: Indexes can't be chose more than once to avoid eating the same thing twice during the week\n",
    "# ---------- CHANGES: Add attribute to make menu more equilibrated \n",
    "def chooseDish(str):\n",
    "    subset_df = xl_file[(xl_file['Day'] == string) | (xl_file['Day']=='Any')].reset_index()\n",
    "    index = randint(0, len(subset_df)-1)\n",
    "    dish1 = subset_df['Dish'][index]\n",
    "    if subset_df['Type'][index] == 'Primo':\n",
    "        side_dish = subset_df[subset_df['Type']=='Contorno']\n",
    "        dish2 = choice(side_dish.Dish.to_list())\n",
    "        final_dish = dish1+' & '+dish2\n",
    "    elif subset_df['Type'][index] == 'Secondo':\n",
    "        side_dish = subset_df[subset_df['Type']=='Contorno']\n",
    "        dish2 = choice(side_dish.Dish.to_list())\n",
    "        final_dish = dish1+' & '+dish2\n",
    "    elif subset_df['Type'][index] == 'Contorno':\n",
    "        side_dish = subset_df[subset_df['Type']=='Secondo']\n",
    "        dish2 = choice(side_dish.Dish.to_list())\n",
    "        final_dish = dish1+' & '+dish2\n",
    "    else:\n",
    "        final_dish = dish1\n",
    "\n",
    "    return final_dish"
   ]
  },
  {
   "cell_type": "code",
   "execution_count": 19,
   "id": "d39f09a7",
   "metadata": {},
   "outputs": [
    {
     "name": "stdout",
     "output_type": "stream",
     "text": [
      "Lunedi\n",
      "Cena: Jacket potato & Verdure miste al forno\n",
      "Martedi\n",
      "Cena: Riso venere con crema di zucca e mozzarella & Verdure miste al forno\n",
      "Mercoledi\n",
      "Cena: Nachos\n",
      "Giovedi\n",
      "Cena: Zucca al forno & Fish cake\n",
      "Venerdi\n",
      "Cena: Braciole di maiale & Broccoli al vapore\n",
      "Sabato\n",
      "Pranzo: Tortelloni & Insalata russa\n",
      "Cena: Fish cake & Verdure miste al forno\n",
      "Domenica\n",
      "Pranzo: Fish cake & Insalata mista\n",
      "Cena: Braciole di maiale al latte & Verdure miste al forno\n"
     ]
    }
   ],
   "source": [
    "xl_file = pd.read_excel('/Users/mr2814/Desktop/Meal_planner/menu_settimanale.xlsx')\n",
    "\n",
    "week = ['Lunedi','Martedi','Mercoledi','Giovedi','Venerdi','Sabato','Domenica']\n",
    "\n",
    "# generate some integers\n",
    "for day in week:\n",
    "    if day in week[:-2]:\n",
    "        dinner = chooseDish(day)\n",
    "        print(day+'\\nCena: '+dinner)\n",
    "    elif day in week[-2:]:\n",
    "        lunch = chooseDish(day)\n",
    "        dinner = chooseDish(day)\n",
    "        print(day+'\\nPranzo: '+lunch+'\\nCena: '+dinner)\n",
    "    else:\n",
    "        print('some error')"
   ]
  },
  {
   "cell_type": "code",
   "execution_count": null,
   "id": "42d158b5",
   "metadata": {},
   "outputs": [],
   "source": []
  },
  {
   "cell_type": "code",
   "execution_count": null,
   "id": "d9d75df9",
   "metadata": {},
   "outputs": [],
   "source": []
  },
  {
   "cell_type": "code",
   "execution_count": null,
   "id": "afa0decf",
   "metadata": {},
   "outputs": [],
   "source": []
  }
 ],
 "metadata": {
  "kernelspec": {
   "display_name": "Python 3",
   "language": "python",
   "name": "python3"
  },
  "language_info": {
   "codemirror_mode": {
    "name": "ipython",
    "version": 3
   },
   "file_extension": ".py",
   "mimetype": "text/x-python",
   "name": "python",
   "nbconvert_exporter": "python",
   "pygments_lexer": "ipython3",
   "version": "3.8.2"
  }
 },
 "nbformat": 4,
 "nbformat_minor": 5
}
