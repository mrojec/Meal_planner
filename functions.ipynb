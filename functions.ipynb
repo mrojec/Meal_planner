{
 "cells": [
  {
   "cell_type": "code",
   "execution_count": 98,
   "id": "ded876f8",
   "metadata": {},
   "outputs": [],
   "source": [
    "def get_day_info(date_string):\n",
    "    '''\n",
    "    From a date extract information such as day of the week and season.\n",
    "    '''\n",
    "\n",
    "    import datetime\n",
    "    #import calendar\n",
    "    \n",
    "    dt = str(date_string)\n",
    "    for char in ['-','?',' ']:\n",
    "        dt = dt.replace(char,\"/\")\n",
    "    day, month, year = (int(x) for x in dt.split('/'))   \n",
    "\n",
    "    ans = datetime.date(year, month, day)\n",
    "    print (ans.strftime(\"%A\"))\n",
    "\n",
    "    #my_date = date.today()\n",
    "    #calendar.day_name[my_date.weekday()]  #'Wednesday'"
   ]
  },
  {
   "cell_type": "code",
   "execution_count": 99,
   "id": "601f864b",
   "metadata": {},
   "outputs": [
    {
     "name": "stdout",
     "output_type": "stream",
     "text": [
      "Thursday\n"
     ]
    }
   ],
   "source": [
    "get_day_info(\"20-04-2023\")"
   ]
  },
  {
   "cell_type": "code",
   "execution_count": 91,
   "id": "4f8732ff",
   "metadata": {},
   "outputs": [
    {
     "name": "stdout",
     "output_type": "stream",
     "text": [
      "-\n",
      "21/03 2034\n",
      "?\n",
      "21/03 2034\n",
      " \n",
      "21/03/2034\n"
     ]
    }
   ],
   "source": []
  },
  {
   "cell_type": "code",
   "execution_count": 94,
   "id": "785ea285",
   "metadata": {},
   "outputs": [
    {
     "data": {
      "text/plain": [
       "2034"
      ]
     },
     "execution_count": 94,
     "metadata": {},
     "output_type": "execute_result"
    }
   ],
   "source": []
  },
  {
   "cell_type": "code",
   "execution_count": null,
   "id": "e0bb4b66",
   "metadata": {},
   "outputs": [],
   "source": []
  }
 ],
 "metadata": {
  "kernelspec": {
   "display_name": "Python 3",
   "language": "python",
   "name": "python3"
  },
  "language_info": {
   "codemirror_mode": {
    "name": "ipython",
    "version": 3
   },
   "file_extension": ".py",
   "mimetype": "text/x-python",
   "name": "python",
   "nbconvert_exporter": "python",
   "pygments_lexer": "ipython3",
   "version": "3.8.2"
  }
 },
 "nbformat": 4,
 "nbformat_minor": 5
}
